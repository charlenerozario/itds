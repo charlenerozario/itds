{
 "cells": [
  {
   "cell_type": "markdown",
   "metadata": {},
   "source": [
    "# OLS Regression - Simple Train and Test"
   ]
  },
  {
   "cell_type": "markdown",
   "metadata": {},
   "source": [
    "## Required Libraries"
   ]
  },
  {
   "cell_type": "code",
   "execution_count": null,
   "metadata": {},
   "outputs": [],
   "source": [
    "import pandas as pd\n",
    "import seaborn as sns\n",
    "import matplotlib.pyplot as plt\n",
    "import numpy as np\n",
    "import statsmodels.api as sm\n",
    "from sklearn import linear_model\n",
    "from sklearn.metrics import mean_squared_error, r2_score\n",
    "import math\n",
    "import os"
   ]
  },
  {
   "cell_type": "markdown",
   "metadata": {},
   "source": [
    "## Notbook Settings"
   ]
  },
  {
   "cell_type": "code",
   "execution_count": null,
   "metadata": {},
   "outputs": [],
   "source": [
    "# set working directory\n",
    "os.chdir(\".\")\n",
    "\n",
    "# make sure it is set right\n",
    "print(os.getcwd())\n",
    "\n",
    "# make sure plots display in notebook\n",
    "%matplotlib inline"
   ]
  },
  {
   "cell_type": "markdown",
   "metadata": {},
   "source": [
    "## Data Load"
   ]
  },
  {
   "cell_type": "markdown",
   "metadata": {},
   "source": [
    "Weekly marketing spend (in thousand's) by channel and the corresponding product sales (in million's)."
   ]
  },
  {
   "cell_type": "code",
   "execution_count": null,
   "metadata": {},
   "outputs": [],
   "source": [
    "# read in the advertising data set\n",
    "ad_df = pd.read_csv(\"http://www-bcf.usc.edu/~gareth/ISL/Advertising.csv\", index_col = [0])\n",
    "\n",
    "# look at the top rows\n",
    "ad_df.head()"
   ]
  },
  {
   "cell_type": "markdown",
   "metadata": {},
   "source": [
    "## EDA"
   ]
  },
  {
   "cell_type": "code",
   "execution_count": null,
   "metadata": {},
   "outputs": [],
   "source": [
    "# describe the dataset\n",
    "ad_df.describe()"
   ]
  },
  {
   "cell_type": "code",
   "execution_count": null,
   "metadata": {},
   "outputs": [],
   "source": [
    "# look at the data types\n",
    "ad_df.info()"
   ]
  },
  {
   "cell_type": "code",
   "execution_count": null,
   "metadata": {},
   "outputs": [],
   "source": [
    "sns.pairplot(ad_df)"
   ]
  },
  {
   "cell_type": "code",
   "execution_count": null,
   "metadata": {},
   "outputs": [],
   "source": [
    "sns.distplot(ad_df[\"sales\"])"
   ]
  },
  {
   "cell_type": "code",
   "execution_count": null,
   "metadata": {},
   "outputs": [],
   "source": [
    "sns.heatmap(ad_df.drop(columns = \"sales\").corr(), annot=True, cmap=\"YlGnBu\", square = True)"
   ]
  },
  {
   "cell_type": "markdown",
   "metadata": {},
   "source": [
    "## Training - Model 1"
   ]
  },
  {
   "cell_type": "code",
   "execution_count": null,
   "metadata": {},
   "outputs": [],
   "source": [
    "# specifying the regression model\n",
    "ols_m1 = linear_model.LinearRegression()\n",
    "\n",
    "from sklearn.model_selection import train_test_split\n",
    "\n",
    "# feature set\n",
    "X = ad_df.drop(columns = \"sales\")\n",
    "\n",
    "# target\n",
    "y = ad_df[\"sales\"]\n",
    "\n",
    "# creating training / testings datasets\n",
    "X_train, X_test, y_train, y_test = train_test_split(X, y, test_size=0.33, random_state=42)"
   ]
  },
  {
   "cell_type": "code",
   "execution_count": null,
   "metadata": {},
   "outputs": [],
   "source": [
    "print(len(X_train))\n",
    "print(len(X_test))"
   ]
  },
  {
   "cell_type": "code",
   "execution_count": null,
   "metadata": {},
   "outputs": [],
   "source": [
    "# fit the regression model\n",
    "ols_m1.fit(X_train,y_train)"
   ]
  },
  {
   "cell_type": "markdown",
   "metadata": {},
   "source": [
    "## Assumption Checking"
   ]
  },
  {
   "cell_type": "markdown",
   "metadata": {},
   "source": [
    "Errors should be independently and identically normally distributed with a mean of 0 and a fixed variance."
   ]
  },
  {
   "cell_type": "markdown",
   "metadata": {},
   "source": [
    "### Residuals vs. Fitted Values"
   ]
  },
  {
   "cell_type": "code",
   "execution_count": null,
   "metadata": {},
   "outputs": [],
   "source": [
    "# residuals versus fitted values\n",
    "def plot_fit(fitted_values, residuals):\n",
    "    plt.scatter(fitted_values, residuals)\n",
    "    plt.axhline(y = 0, color = \"r\")\n",
    "    plt.xlabel(\"Fitted Values\")\n",
    "    plt.ylabel(\"Residuals\")"
   ]
  },
  {
   "cell_type": "code",
   "execution_count": null,
   "metadata": {},
   "outputs": [],
   "source": [
    "residuals = ols_m1.predict(X_train) - y_train\n",
    "\n",
    "fitted_values = ols_m1.predict(X_train)"
   ]
  },
  {
   "cell_type": "code",
   "execution_count": null,
   "metadata": {},
   "outputs": [],
   "source": [
    "# call\n",
    "plot_fit(fitted_values, residuals)"
   ]
  },
  {
   "cell_type": "markdown",
   "metadata": {},
   "source": [
    "### Distribution of Residuals"
   ]
  },
  {
   "cell_type": "code",
   "execution_count": null,
   "metadata": {},
   "outputs": [],
   "source": [
    "# plot of residuals\n",
    "def plot_residuals(residuals):\n",
    "    residuals.name = \"Residuals\"\n",
    "    sns.distplot(residuals)"
   ]
  },
  {
   "cell_type": "code",
   "execution_count": null,
   "metadata": {},
   "outputs": [],
   "source": [
    "# call\n",
    "plot_residuals(residuals)"
   ]
  },
  {
   "cell_type": "markdown",
   "metadata": {},
   "source": [
    "## Training - Model 2"
   ]
  },
  {
   "cell_type": "markdown",
   "metadata": {},
   "source": [
    "### Remove High Influence Point?"
   ]
  },
  {
   "cell_type": "code",
   "execution_count": null,
   "metadata": {},
   "outputs": [],
   "source": [
    "X_train = X_train[residuals != residuals.max()]\n",
    "\n",
    "y_train = y_train[residuals != residuals.max()]"
   ]
  },
  {
   "cell_type": "code",
   "execution_count": null,
   "metadata": {},
   "outputs": [],
   "source": [
    "# specifying the regression model\n",
    "ols_m2 = linear_model.LinearRegression()\n",
    "\n",
    "# fit the regression model\n",
    "ols_m2.fit(X_train,y_train)"
   ]
  },
  {
   "cell_type": "markdown",
   "metadata": {},
   "source": [
    "## Assumption Checking"
   ]
  },
  {
   "cell_type": "code",
   "execution_count": null,
   "metadata": {},
   "outputs": [],
   "source": [
    "residuals = ols_m2.predict(X_train) - y_train\n",
    "\n",
    "fitted_values = ols_m2.predict(X_train)\n",
    "\n",
    "plot_fit(fitted_values, residuals)"
   ]
  },
  {
   "cell_type": "code",
   "execution_count": null,
   "metadata": {},
   "outputs": [],
   "source": [
    "plot_residuals(residuals)"
   ]
  },
  {
   "cell_type": "markdown",
   "metadata": {},
   "source": [
    "## Final Model Interpretation"
   ]
  },
  {
   "cell_type": "markdown",
   "metadata": {},
   "source": [
    "### Feature Importance?"
   ]
  },
  {
   "cell_type": "code",
   "execution_count": null,
   "metadata": {},
   "outputs": [],
   "source": [
    "for estimate in zip(X_train.columns, ols_m1.coef_):\n",
    "     print(\"Fit 1 estimate: \", estimate)\n",
    "\n",
    "for estimate in zip(X_train.columns, ols_m2.coef_):\n",
    "     print(\"Fit 2 estimate: \", estimate)"
   ]
  },
  {
   "cell_type": "markdown",
   "metadata": {},
   "source": [
    "### Intercept?"
   ]
  },
  {
   "cell_type": "code",
   "execution_count": null,
   "metadata": {},
   "outputs": [],
   "source": [
    "print(ols_m1.intercept_)\n",
    "print(ols_m2.intercept_)"
   ]
  },
  {
   "cell_type": "markdown",
   "metadata": {},
   "source": [
    "## Testing"
   ]
  },
  {
   "cell_type": "code",
   "execution_count": null,
   "metadata": {},
   "outputs": [],
   "source": [
    "# predicted\n",
    "predicted_m1 = ols_m1.predict(X_test)\n",
    "predicted_m2 = ols_m2.predict(X_test)\n",
    "\n",
    "# actual\n",
    "validate = pd.DataFrame(y_test)\n",
    "\n",
    "validate.columns = ['actual']\n",
    "\n",
    "validate['predicted_m1'] = predicted_m1\n",
    "validate['predicted_m2'] = predicted_m2\n",
    "\n",
    "validate.head(10)"
   ]
  },
  {
   "cell_type": "markdown",
   "metadata": {},
   "source": [
    "## Quality of Fit"
   ]
  },
  {
   "cell_type": "code",
   "execution_count": null,
   "metadata": {},
   "outputs": [],
   "source": [
    "# mean squared error\n",
    "mse_m1 = np.sum((validate['actual'] - validate['predicted_m1'])**2) / len(validate)\n",
    "mse_m2 = np.sum((validate['actual'] - validate['predicted_m2'])**2) / len(validate)\n",
    "\n",
    "print(\"The Model 1 Mean Squared Error is \" + str(mse_m1))\n",
    "print(\"The Model 2 Mean Squared Error is \" + str(mse_m2))\n",
    "\n",
    "# sklearn mse\n",
    "# mean_squared_error(predicted, y_test)\n",
    "\n",
    "# r squared\n",
    "r2_m1 = r2_score(predicted_m1, y_test)\n",
    "r2_m2 = r2_score(predicted_m2, y_test)\n",
    "\n",
    "print(\"The Model 1 R-Squared is \" + str(r2_m1))\n",
    "print(\"The Model 2 R-Squared is \" + str(r2_m2))"
   ]
  },
  {
   "cell_type": "markdown",
   "metadata": {},
   "source": [
    "## Next Steps"
   ]
  },
  {
   "cell_type": "markdown",
   "metadata": {},
   "source": [
    "Can you spot any ways to improve the model? Is the OLS linear model appropriate here? Why do you think the R-squared value actually gets worse in model 2? Hint: Check the assumptions!!!\n",
    "What about p-values???"
   ]
  },
  {
   "cell_type": "markdown",
   "metadata": {},
   "source": [
    "## References"
   ]
  },
  {
   "cell_type": "markdown",
   "metadata": {},
   "source": [
    "Data sourced from An Introduction to Statistical Learning\n",
    "with Applications in R\n",
    "Gareth James, Daniela Witten, Trevor Hastie and Robert Tibshirani."
   ]
  }
 ],
 "metadata": {
  "kernelspec": {
   "display_name": "Python 3",
   "language": "python",
   "name": "python3"
  },
  "language_info": {
   "codemirror_mode": {
    "name": "ipython",
    "version": 3
   },
   "file_extension": ".py",
   "mimetype": "text/x-python",
   "name": "python",
   "nbconvert_exporter": "python",
   "pygments_lexer": "ipython3",
   "version": "3.6.4"
  }
 },
 "nbformat": 4,
 "nbformat_minor": 2
}
